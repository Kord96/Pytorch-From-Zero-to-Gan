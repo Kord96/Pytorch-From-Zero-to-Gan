{
 "cells": [
  {
   "cell_type": "markdown",
   "id": "3a6bc4f7",
   "metadata": {},
   "source": [
    "goal: predicts how many apples and oranges you can yield in a given condition"
   ]
  },
  {
   "cell_type": "code",
   "execution_count": 1,
   "id": "1ed1359b",
   "metadata": {},
   "outputs": [],
   "source": [
    "import numpy as np\n",
    "import torch\n"
   ]
  },
  {
   "cell_type": "code",
   "execution_count": 2,
   "id": "c75a3b7b",
   "metadata": {},
   "outputs": [],
   "source": [
    "#Sample dataset\n",
    "# Input (temp, rainfall, humidity)\n",
    "inputs = np.array([[73, 67, 43], \n",
    "                   [91, 88, 64], \n",
    "                   [87, 134, 58], \n",
    "                   [102, 43, 37], \n",
    "                   [69, 96, 70]], dtype='float32')\n",
    "# Targets (apples, oranges)\n",
    "targets = np.array([[56, 70], \n",
    "                    [81, 101], \n",
    "                    [119, 133], \n",
    "                    [22, 37], \n",
    "                    [103, 119]], dtype='float32')\n",
    "\n",
    "\n",
    "# Convert inputs and targets to tensors\n",
    "inputs = torch.from_numpy(inputs)\n",
    "targets = torch.from_numpy(targets)\n"
   ]
  },
  {
   "cell_type": "markdown",
   "id": "da4e64ff",
   "metadata": {},
   "source": [
    "# Linear regression model from scratch"
   ]
  },
  {
   "cell_type": "code",
   "execution_count": 3,
   "id": "20b9f328",
   "metadata": {},
   "outputs": [],
   "source": [
    "# Weights and biases\n",
    "w = torch.randn(2, 3, requires_grad=True)\n",
    "b = torch.randn(2, requires_grad=True)\n",
    "def model(x):\n",
    "    return x @ w.t() + b\n",
    "\n",
    "# MSE loss\n",
    "def mse(t1, t2):\n",
    "    diff = t1 - t2\n",
    "    return torch.sum(diff * diff) / diff.numel() #The .numel method of a tensor returns the number of elements in a tensor\n"
   ]
  },
  {
   "cell_type": "code",
   "execution_count": 4,
   "id": "86108fb1",
   "metadata": {},
   "outputs": [
    {
     "name": "stdout",
     "output_type": "stream",
     "text": [
      "true target:\n",
      "tensor([[ 56.,  70.],\n",
      "        [ 81., 101.],\n",
      "        [119., 133.],\n",
      "        [ 22.,  37.],\n",
      "        [103., 119.]])\n",
      "\n",
      "\n",
      " before training\n",
      "\n",
      "\n",
      "tensor([[-63.0402, -20.5677],\n",
      "        [-91.2943, -33.8550],\n",
      "        [-44.4069, -48.6289],\n",
      "        [-89.5197,   4.1957],\n",
      "        [-81.2525, -49.8097]], grad_fn=<AddBackward0>)\n",
      "tensor(20589.3633, grad_fn=<DivBackward0>)\n",
      "\n",
      "\n",
      " after training\n",
      "\n",
      "\n",
      "tensor([[ 58.6936,  77.1255],\n",
      "        [ 70.1989,  98.1681],\n",
      "        [143.5416, 127.6912],\n",
      "        [ 29.9326,  75.7014],\n",
      "        [ 75.6054,  92.2531]], grad_fn=<AddBackward0>)\n",
      "tensor(383.9767, grad_fn=<DivBackward0>)\n"
     ]
    }
   ],
   "source": [
    "#check loss before training\n",
    "#check loss after training\n",
    "print(\"true target:\")\n",
    "print(targets)\n",
    "print('\\n\\nbefore training\\n\\n')\n",
    "preds = model(inputs)\n",
    "loss = mse(preds, targets)\n",
    "print(preds)\n",
    "print(loss)\n",
    "\n",
    "# Train for 100 epochs\n",
    "for i in range(100):\n",
    "    preds = model(inputs)\n",
    "    loss = mse(preds, targets)\n",
    "    loss.backward() # update gradients for w and b\n",
    "    with torch.no_grad():\n",
    "        w -= w.grad * 1e-5\n",
    "        b -= b.grad * 1e-5\n",
    "        w.grad.zero_()\n",
    "        b.grad.zero_()\n",
    "\n",
    "#check loss after training\n",
    "print('\\n\\nafter training\\n\\n')\n",
    "preds = model(inputs)\n",
    "loss = mse(preds, targets)\n",
    "print(preds)\n",
    "print(loss)"
   ]
  },
  {
   "cell_type": "markdown",
   "id": "b6b5cdc9",
   "metadata": {},
   "source": [
    "# Linear regression built in"
   ]
  },
  {
   "cell_type": "code",
   "execution_count": 11,
   "id": "71593743",
   "metadata": {},
   "outputs": [],
   "source": [
    "import torch.nn as nn\n",
    "from torch.utils.data import TensorDataset\n",
    "from torch.utils.data import DataLoader\n",
    "import torch.nn.functional as F\n"
   ]
  },
  {
   "cell_type": "code",
   "execution_count": 6,
   "id": "bc9254ee",
   "metadata": {},
   "outputs": [
    {
     "data": {
      "text/plain": [
       "(tensor([73., 67., 43.]), tensor([56., 70.]))"
      ]
     },
     "execution_count": 6,
     "metadata": {},
     "output_type": "execute_result"
    }
   ],
   "source": [
    "# Input (temp, rainfall, humidity)\n",
    "inputs = np.array([[73, 67, 43], \n",
    "                   [91, 88, 64], \n",
    "                   [87, 134, 58], \n",
    "                   [102, 43, 37], \n",
    "                   [69, 96, 70], \n",
    "                   [74, 66, 43], \n",
    "                   [91, 87, 65], \n",
    "                   [88, 134, 59], \n",
    "                   [101, 44, 37], \n",
    "                   [68, 96, 71], \n",
    "                   [73, 66, 44], \n",
    "                   [92, 87, 64], \n",
    "                   [87, 135, 57], \n",
    "                   [103, 43, 36], \n",
    "                   [68, 97, 70]], \n",
    "                  dtype='float32')\n",
    "\n",
    "# Targets (apples, oranges)\n",
    "targets = np.array([[56, 70], \n",
    "                    [81, 101], \n",
    "                    [119, 133], \n",
    "                    [22, 37], \n",
    "                    [103, 119],\n",
    "                    [57, 69], \n",
    "                    [80, 102], \n",
    "                    [118, 132], \n",
    "                    [21, 38], \n",
    "                    [104, 118], \n",
    "                    [57, 69], \n",
    "                    [82, 100], \n",
    "                    [118, 134], \n",
    "                    [20, 38], \n",
    "                    [102, 120]], \n",
    "                   dtype='float32')\n",
    "\n",
    "inputs = torch.from_numpy(inputs)\n",
    "targets = torch.from_numpy(targets)\n",
    "\n"
   ]
  },
  {
   "cell_type": "code",
   "execution_count": 8,
   "id": "6a0bfd0b",
   "metadata": {},
   "outputs": [
    {
     "data": {
      "text/plain": [
       "(tensor([73., 67., 43.]), tensor([56., 70.]))"
      ]
     },
     "execution_count": 8,
     "metadata": {},
     "output_type": "execute_result"
    }
   ],
   "source": [
    "train_ds = TensorDataset(inputs, targets)\n",
    "train_ds[0]\n"
   ]
  },
  {
   "cell_type": "code",
   "execution_count": 9,
   "id": "72f92fdd",
   "metadata": {},
   "outputs": [],
   "source": [
    "batch_size = 5\n",
    "train_dl = DataLoader(train_ds, batch_size, shuffle=True)\n"
   ]
  },
  {
   "cell_type": "code",
   "execution_count": 12,
   "id": "225e6975",
   "metadata": {},
   "outputs": [],
   "source": [
    "model = nn.Linear(3, 2)\n",
    "preds = model(inputs)\n",
    "loss_fn = F.mse_loss\n",
    "opt = torch.optim.SGD(model.parameters(), lr=1e-5)\n"
   ]
  },
  {
   "cell_type": "code",
   "execution_count": 13,
   "id": "b6e4ceda",
   "metadata": {},
   "outputs": [],
   "source": [
    "def fit(num_epochs, model, loss_fn, opt, train_dl):\n",
    "    \n",
    "    # Repeat for given number of epochs\n",
    "    for epoch in range(num_epochs):\n",
    "        \n",
    "        # Train with batches of data\n",
    "        for xb,yb in train_dl:\n",
    "            \n",
    "            # 1. Generate predictions\n",
    "            pred = model(xb)\n",
    "            \n",
    "            # 2. Calculate loss\n",
    "            loss = loss_fn(pred, yb)\n",
    "            \n",
    "            # 3. Compute gradients\n",
    "            loss.backward()\n",
    "            \n",
    "            # 4. Update parameters using gradients\n",
    "            opt.step()\n",
    "            \n",
    "            # 5. Reset the gradients to zero\n",
    "            opt.zero_grad()\n",
    "        \n",
    "        # Print the progress\n",
    "        if (epoch+1) % 10 == 0:\n",
    "            print('Epoch [{}/{}], Loss: {:.4f}'.format(epoch+1, num_epochs, loss.item()))\n"
   ]
  },
  {
   "cell_type": "code",
   "execution_count": 14,
   "id": "e2bcf611",
   "metadata": {},
   "outputs": [
    {
     "name": "stdout",
     "output_type": "stream",
     "text": [
      "Epoch [10/100], Loss: 760.1420\n",
      "Epoch [20/100], Loss: 292.8234\n",
      "Epoch [30/100], Loss: 149.8422\n",
      "Epoch [40/100], Loss: 153.1980\n",
      "Epoch [50/100], Loss: 151.4576\n",
      "Epoch [60/100], Loss: 34.7857\n",
      "Epoch [70/100], Loss: 38.2837\n",
      "Epoch [80/100], Loss: 48.2569\n",
      "Epoch [90/100], Loss: 54.5574\n",
      "Epoch [100/100], Loss: 16.6784\n"
     ]
    }
   ],
   "source": [
    "fit(100, model, loss_fn, opt, train_dl)"
   ]
  },
  {
   "cell_type": "code",
   "execution_count": null,
   "id": "d4209341",
   "metadata": {},
   "outputs": [],
   "source": []
  }
 ],
 "metadata": {
  "kernelspec": {
   "display_name": "Python 3 (ipykernel)",
   "language": "python",
   "name": "python3"
  },
  "language_info": {
   "codemirror_mode": {
    "name": "ipython",
    "version": 3
   },
   "file_extension": ".py",
   "mimetype": "text/x-python",
   "name": "python",
   "nbconvert_exporter": "python",
   "pygments_lexer": "ipython3",
   "version": "3.9.7"
  }
 },
 "nbformat": 4,
 "nbformat_minor": 5
}
